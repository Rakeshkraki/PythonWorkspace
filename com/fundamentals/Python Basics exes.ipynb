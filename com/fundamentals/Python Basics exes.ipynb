{
 "cells": [
  {
   "cell_type": "raw",
   "id": "6667c6f6",
   "metadata": {},
   "source": [
    "birthYear = 2001\n",
    "currentYear = 2025\n",
    "\n",
    "print(currentYear - birthYear)\n"
   ]
  },
  {
   "cell_type": "code",
   "execution_count": 4,
   "id": "2f47e64a",
   "metadata": {},
   "outputs": [
    {
     "name": "stdout",
     "output_type": "stream",
     "text": [
      "enter length of football field92\n",
      "enter width of football field48.8\n",
      "4489.599999999999\n"
     ]
    }
   ],
   "source": [
    "#You have a football field that is 92 meter long and 48.8 meter wide. Find out total area using python and print it.\n",
    "\n",
    "length = int(input(\"enter length of football field\"))\n",
    "width = float(input(\"enter width of football field\"))\n",
    "\n",
    "print(length * width)"
   ]
  },
  {
   "cell_type": "code",
   "execution_count": null,
   "id": "fbbb9bd0",
   "metadata": {},
   "outputs": [],
   "source": [
    "#Create 3 variables to store street, city and country, now create address variable to store entire address. Use two ways of creating this variable, one using + operator and the other using f-string. Now Print the address in such a way that the street, city and country prints in a separate "
   ]
  }
 ],
 "metadata": {
  "kernelspec": {
   "display_name": "Python 3 (ipykernel)",
   "language": "python",
   "name": "python3"
  },
  "language_info": {
   "codemirror_mode": {
    "name": "ipython",
    "version": 3
   },
   "file_extension": ".py",
   "mimetype": "text/x-python",
   "name": "python",
   "nbconvert_exporter": "python",
   "pygments_lexer": "ipython3",
   "version": "3.9.13"
  }
 },
 "nbformat": 4,
 "nbformat_minor": 5
}
